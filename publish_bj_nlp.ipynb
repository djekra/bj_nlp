{
 "cells": [
  {
   "cell_type": "markdown",
   "id": "161c7fec-18c9-4111-a964-ce15e4db5cbb",
   "metadata": {},
   "source": [
    "## Create README"
   ]
  },
  {
   "cell_type": "code",
   "execution_count": 1,
   "id": "037e1ac6-c843-4bdb-a6a6-4221f7194542",
   "metadata": {},
   "outputs": [
    {
     "name": "stdout",
     "output_type": "stream",
     "text": [
      "[NbConvertApp] Converting notebook README.ipynb to markdown\n",
      "[NbConvertApp] Writing 140 bytes to README.md\n"
     ]
    }
   ],
   "source": [
    "!jupyter nbconvert --ClearMetadataPreprocessor.enabled=True --ClearOutput.enabled=True --to markdown README.ipynb"
   ]
  },
  {
   "cell_type": "markdown",
   "id": "a4547f78-251b-45b5-a478-27dc691d193b",
   "metadata": {},
   "source": [
    "## Local install"
   ]
  },
  {
   "cell_type": "code",
   "execution_count": 2,
   "id": "b6454e67-63bf-4429-9f87-fbec0e99cfd1",
   "metadata": {},
   "outputs": [
    {
     "name": "stdout",
     "output_type": "stream",
     "text": [
      "Found existing installation: bj-nlp 0.0.0\n",
      "Uninstalling bj-nlp-0.0.0:\n",
      "  Successfully uninstalled bj-nlp-0.0.0\n"
     ]
    }
   ],
   "source": [
    "# uninstall\n",
    "!pip uninstall -y bj_nlp"
   ]
  },
  {
   "cell_type": "code",
   "execution_count": 3,
   "id": "f345ee0f-748f-40be-8578-8ad4ac4d9fe3",
   "metadata": {},
   "outputs": [
    {
     "name": "stdout",
     "output_type": "stream",
     "text": [
      "Obtaining file:///home/me/Data_Linux/Dropbox/31_Projekte/01_Python/git/bj_nlp\n",
      "  Installing build dependencies ... \u001b[?25ldone\n",
      "\u001b[?25h  Checking if build backend supports build_editable ... \u001b[?25ldone\n",
      "\u001b[?25h  Getting requirements to build editable ... \u001b[?25ldone\n",
      "\u001b[?25h  Preparing editable metadata (pyproject.toml) ... \u001b[?25ldone\n",
      "\u001b[?25hRequirement already satisfied: bpyth in /home/me/mambaforge/envs/python_06/lib/python3.9/site-packages (from bj-nlp==0.0.0) (0.1.7)\n",
      "Building wheels for collected packages: bj-nlp\n",
      "  Building editable for bj-nlp (pyproject.toml) ... \u001b[?25ldone\n",
      "\u001b[?25h  Created wheel for bj-nlp: filename=bj_nlp-0.0.0-0.editable-py3-none-any.whl size=2547 sha256=65f969e6f7101bd30d82ec25f3b7803a73e0a489d89cf1cb127254709d9b57f3\n",
      "  Stored in directory: /tmp/pip-ephem-wheel-cache-l33xovbt/wheels/c6/42/37/5297650282a090a830d495bcf1c8c840df18fa1ff984a20ffa\n",
      "Successfully built bj-nlp\n",
      "Installing collected packages: bj-nlp\n",
      "Successfully installed bj-nlp-0.0.0\n"
     ]
    }
   ],
   "source": [
    "# install locally\n",
    "!python -m pip install -e ."
   ]
  },
  {
   "cell_type": "code",
   "execution_count": 4,
   "id": "8cec0e88-e3c2-4020-b9c9-176bcd255c46",
   "metadata": {},
   "outputs": [
    {
     "name": "stdout",
     "output_type": "stream",
     "text": [
      "Name: bj-nlp\n",
      "Version: 0.0.0\n",
      "Summary: Various NLP Tools\n",
      "Home-page: \n",
      "Author: \n",
      "Author-email: djekra <hopsalla@gmail.com>\n",
      "License: MIT\n",
      "Location: /home/me/mambaforge/envs/python_06/lib/python3.9/site-packages\n",
      "Requires: bpyth\n",
      "Required-by: \n"
     ]
    }
   ],
   "source": [
    "# show\n",
    "!pip show bj_nlp"
   ]
  },
  {
   "cell_type": "code",
   "execution_count": 5,
   "id": "baf8f2b6-2bb4-4460-b654-f4454bfec48f",
   "metadata": {},
   "outputs": [],
   "source": [
    "# test import\n",
    "# Wenn dies failed: Restart Kernel and Run all Cells\n",
    "import bj_nlp"
   ]
  },
  {
   "cell_type": "code",
   "execution_count": 6,
   "id": "43f0bbdd-2df6-4534-a86e-77657d0329da",
   "metadata": {},
   "outputs": [
    {
     "name": "stdout",
     "output_type": "stream",
     "text": [
      "Hello bj_nlp 0.0.0\n"
     ]
    }
   ],
   "source": [
    "# test script\n",
    "!bj_nlp"
   ]
  },
  {
   "cell_type": "code",
   "execution_count": 7,
   "id": "4ee9af0c-5d40-48c7-8c8d-61526a6f05d5",
   "metadata": {},
   "outputs": [
    {
     "name": "stdout",
     "output_type": "stream",
     "text": [
      "blab init\n",
      "environment['in_colab']     = False\n",
      "environment['dropbox_path'] = /home/me/Data_Linux/Dropbox\n",
      "environment['lib_path']     = /home/me/Data_Linux/Dropbox/31_Projekte/01_Python/libs\n",
      "Start Time: 13:37:38\n"
     ]
    },
    {
     "data": {
      "text/html": [
       "<img src onerror=\"var cell = this.closest('.jp-CodeCell');var editor = cell.querySelector('.jp-Editor');editor.style.background='Beige';this.parentNode.removeChild(this)\">"
      ],
      "text/plain": [
       "<IPython.core.display.HTML object>"
      ]
     },
     "metadata": {},
     "output_type": "display_data"
    },
    {
     "name": "stdout",
     "output_type": "stream",
     "text": [
      "time: 636 ms\n"
     ]
    }
   ],
   "source": [
    "# blab init\n",
    "try:\n",
    "    import blab\n",
    "    startup_notebook = blab.blab_startup()\n",
    "    %run $startup_notebook\n",
    "except:\n",
    "    pass"
   ]
  },
  {
   "cell_type": "code",
   "execution_count": 8,
   "id": "78535e87-dbc9-4dd4-9c30-1db7b581484d",
   "metadata": {},
   "outputs": [
    {
     "name": "stdout",
     "output_type": "stream",
     "text": [
      "Stop Time:  13:37:39\n",
      "Elapsed:    0 secs\n"
     ]
    },
    {
     "data": {
      "text/html": [
       "<img src onerror=\"var cell = this.closest('.jp-CodeCell');var editor = cell.querySelector('.jp-Editor');editor.style.background='DarkGray';this.parentNode.removeChild(this)\">"
      ],
      "text/plain": [
       "<IPython.core.display.HTML object>"
      ]
     },
     "metadata": {},
     "output_type": "display_data"
    },
    {
     "name": "stdout",
     "output_type": "stream",
     "text": [
      "time: 22 ms\n"
     ]
    }
   ],
   "source": [
    "raise Stop"
   ]
  },
  {
   "cell_type": "markdown",
   "id": "efa2c656-785f-45b7-a3b5-a9ae251bce06",
   "metadata": {},
   "source": [
    "## build"
   ]
  },
  {
   "cell_type": "code",
   "execution_count": 9,
   "id": "f20cbd4d-b38b-4bc9-a750-b14851fb174b",
   "metadata": {},
   "outputs": [
    {
     "name": "stdout",
     "output_type": "stream",
     "text": [
      "time: 2.56 s\n"
     ]
    }
   ],
   "source": [
    "!pip install -q build"
   ]
  },
  {
   "cell_type": "code",
   "execution_count": 10,
   "id": "c745f5da-d6e4-408a-aa73-1166ccc6fd5b",
   "metadata": {},
   "outputs": [
    {
     "name": "stdout",
     "output_type": "stream",
     "text": [
      "\u001b[1m* Creating venv isolated environment...\u001b[0m\n",
      "\u001b[1m* Installing packages in isolated environment... (setuptools>=61.0.0, wheel)\u001b[0m\n",
      "\u001b[1m* Getting build dependencies for sdist...\u001b[0m\n",
      "/tmp/build-env-xzpomieo/lib/python3.9/site-packages/setuptools/config/pyprojecttoml.py:108: _BetaConfiguration: Support for `[tool.setuptools]` in `pyproject.toml` is still *beta*.\n",
      "  warnings.warn(msg, _BetaConfiguration)\n",
      "running egg_info\n",
      "writing src/bj_nlp.egg-info/PKG-INFO\n",
      "writing dependency_links to src/bj_nlp.egg-info/dependency_links.txt\n",
      "writing entry points to src/bj_nlp.egg-info/entry_points.txt\n",
      "writing requirements to src/bj_nlp.egg-info/requires.txt\n",
      "writing top-level names to src/bj_nlp.egg-info/top_level.txt\n",
      "reading manifest file 'src/bj_nlp.egg-info/SOURCES.txt'\n",
      "adding license file 'LICENSE'\n",
      "writing manifest file 'src/bj_nlp.egg-info/SOURCES.txt'\n",
      "\u001b[1m* Building sdist...\u001b[0m\n",
      "/tmp/build-env-xzpomieo/lib/python3.9/site-packages/setuptools/config/pyprojecttoml.py:108: _BetaConfiguration: Support for `[tool.setuptools]` in `pyproject.toml` is still *beta*.\n",
      "  warnings.warn(msg, _BetaConfiguration)\n",
      "running sdist\n",
      "running egg_info\n",
      "writing src/bj_nlp.egg-info/PKG-INFO\n",
      "writing dependency_links to src/bj_nlp.egg-info/dependency_links.txt\n",
      "writing entry points to src/bj_nlp.egg-info/entry_points.txt\n",
      "writing requirements to src/bj_nlp.egg-info/requires.txt\n",
      "writing top-level names to src/bj_nlp.egg-info/top_level.txt\n",
      "reading manifest file 'src/bj_nlp.egg-info/SOURCES.txt'\n",
      "adding license file 'LICENSE'\n",
      "writing manifest file 'src/bj_nlp.egg-info/SOURCES.txt'\n",
      "running check\n",
      "creating bj_nlp-0.0.0\n",
      "creating bj_nlp-0.0.0/src\n",
      "creating bj_nlp-0.0.0/src/bj_nlp\n",
      "creating bj_nlp-0.0.0/src/bj_nlp.egg-info\n",
      "copying files to bj_nlp-0.0.0...\n",
      "copying LICENSE -> bj_nlp-0.0.0\n",
      "copying README.md -> bj_nlp-0.0.0\n",
      "copying pyproject.toml -> bj_nlp-0.0.0\n",
      "copying src/bj_nlp/__init__.py -> bj_nlp-0.0.0/src/bj_nlp\n",
      "copying src/bj_nlp/__main__.py -> bj_nlp-0.0.0/src/bj_nlp\n",
      "copying src/bj_nlp.egg-info/PKG-INFO -> bj_nlp-0.0.0/src/bj_nlp.egg-info\n",
      "copying src/bj_nlp.egg-info/SOURCES.txt -> bj_nlp-0.0.0/src/bj_nlp.egg-info\n",
      "copying src/bj_nlp.egg-info/dependency_links.txt -> bj_nlp-0.0.0/src/bj_nlp.egg-info\n",
      "copying src/bj_nlp.egg-info/entry_points.txt -> bj_nlp-0.0.0/src/bj_nlp.egg-info\n",
      "copying src/bj_nlp.egg-info/requires.txt -> bj_nlp-0.0.0/src/bj_nlp.egg-info\n",
      "copying src/bj_nlp.egg-info/top_level.txt -> bj_nlp-0.0.0/src/bj_nlp.egg-info\n",
      "Writing bj_nlp-0.0.0/setup.cfg\n",
      "Creating tar archive\n",
      "removing 'bj_nlp-0.0.0' (and everything under it)\n",
      "\u001b[1m* Building wheel from sdist\u001b[0m\n",
      "\u001b[1m* Creating venv isolated environment...\u001b[0m\n",
      "\u001b[1m* Installing packages in isolated environment... (setuptools>=61.0.0, wheel)\u001b[0m\n",
      "\u001b[1m* Getting build dependencies for wheel...\u001b[0m\n",
      "/tmp/build-env-8v2xt7ys/lib/python3.9/site-packages/setuptools/config/pyprojecttoml.py:108: _BetaConfiguration: Support for `[tool.setuptools]` in `pyproject.toml` is still *beta*.\n",
      "  warnings.warn(msg, _BetaConfiguration)\n",
      "running egg_info\n",
      "writing src/bj_nlp.egg-info/PKG-INFO\n",
      "writing dependency_links to src/bj_nlp.egg-info/dependency_links.txt\n",
      "writing entry points to src/bj_nlp.egg-info/entry_points.txt\n",
      "writing requirements to src/bj_nlp.egg-info/requires.txt\n",
      "writing top-level names to src/bj_nlp.egg-info/top_level.txt\n",
      "reading manifest file 'src/bj_nlp.egg-info/SOURCES.txt'\n",
      "adding license file 'LICENSE'\n",
      "writing manifest file 'src/bj_nlp.egg-info/SOURCES.txt'\n",
      "\u001b[1m* Installing packages in isolated environment... (wheel)\u001b[0m\n",
      "\u001b[1m* Building wheel...\u001b[0m\n",
      "/tmp/build-env-8v2xt7ys/lib/python3.9/site-packages/setuptools/config/pyprojecttoml.py:108: _BetaConfiguration: Support for `[tool.setuptools]` in `pyproject.toml` is still *beta*.\n",
      "  warnings.warn(msg, _BetaConfiguration)\n",
      "running bdist_wheel\n",
      "running build\n",
      "running build_py\n",
      "creating build\n",
      "creating build/lib\n",
      "creating build/lib/bj_nlp\n",
      "copying src/bj_nlp/__main__.py -> build/lib/bj_nlp\n",
      "copying src/bj_nlp/__init__.py -> build/lib/bj_nlp\n",
      "running egg_info\n",
      "writing src/bj_nlp.egg-info/PKG-INFO\n",
      "writing dependency_links to src/bj_nlp.egg-info/dependency_links.txt\n",
      "writing entry points to src/bj_nlp.egg-info/entry_points.txt\n",
      "writing requirements to src/bj_nlp.egg-info/requires.txt\n",
      "writing top-level names to src/bj_nlp.egg-info/top_level.txt\n",
      "reading manifest file 'src/bj_nlp.egg-info/SOURCES.txt'\n",
      "adding license file 'LICENSE'\n",
      "writing manifest file 'src/bj_nlp.egg-info/SOURCES.txt'\n",
      "installing to build/bdist.linux-x86_64/wheel\n",
      "running install\n",
      "running install_lib\n",
      "creating build/bdist.linux-x86_64\n",
      "creating build/bdist.linux-x86_64/wheel\n",
      "creating build/bdist.linux-x86_64/wheel/bj_nlp\n",
      "copying build/lib/bj_nlp/__main__.py -> build/bdist.linux-x86_64/wheel/bj_nlp\n",
      "copying build/lib/bj_nlp/__init__.py -> build/bdist.linux-x86_64/wheel/bj_nlp\n",
      "running install_egg_info\n",
      "Copying src/bj_nlp.egg-info to build/bdist.linux-x86_64/wheel/bj_nlp-0.0.0-py3.9.egg-info\n",
      "running install_scripts\n",
      "creating build/bdist.linux-x86_64/wheel/bj_nlp-0.0.0.dist-info/WHEEL\n",
      "creating '/home/me/Data_Linux/Dropbox/31_Projekte/01_Python/git/bj_nlp/dist/.tmp-m0nodj13/bj_nlp-0.0.0-py3-none-any.whl' and adding 'build/bdist.linux-x86_64/wheel' to it\n",
      "adding 'bj_nlp/__init__.py'\n",
      "adding 'bj_nlp/__main__.py'\n",
      "adding 'bj_nlp-0.0.0.dist-info/LICENSE'\n",
      "adding 'bj_nlp-0.0.0.dist-info/METADATA'\n",
      "adding 'bj_nlp-0.0.0.dist-info/WHEEL'\n",
      "adding 'bj_nlp-0.0.0.dist-info/entry_points.txt'\n",
      "adding 'bj_nlp-0.0.0.dist-info/top_level.txt'\n",
      "adding 'bj_nlp-0.0.0.dist-info/RECORD'\n",
      "removing build/bdist.linux-x86_64/wheel\n",
      "\u001b[1m\u001b[92mSuccessfully built \u001b[4mbj_nlp-0.0.0.tar.gz\u001b[0m\u001b[1m\u001b[92m and \u001b[4mbj_nlp-0.0.0-py3-none-any.whl\u001b[0m\u001b[1m\u001b[92m\u001b[0m\n",
      "time: 14.7 s\n"
     ]
    }
   ],
   "source": [
    "!python -m build"
   ]
  },
  {
   "cell_type": "markdown",
   "id": "25343284-bf36-4d18-8dba-1d765348763f",
   "metadata": {},
   "source": [
    "## Publish on github"
   ]
  },
  {
   "cell_type": "code",
   "execution_count": 15,
   "id": "d444d5d8-ddb6-451e-9300-fa6424dde8f0",
   "metadata": {},
   "outputs": [
    {
     "name": "stdout",
     "output_type": "stream",
     "text": [
      "Auf Branch main\n",
      "Änderungen, die nicht zum Commit vorgemerkt sind:\n",
      "  (benutzen Sie \"git add <Datei>...\", um die Änderungen zum Commit vorzumerken)\n",
      "  (benutzen Sie \"git restore <Datei>...\", um die Änderungen im Arbeitsverzeichnis zu verwerfen)\n",
      "\t\u001b[31mgeändert:       README.ipynb\u001b[m\n",
      "\t\u001b[31mgeändert:       publish_bj_nlp.ipynb\u001b[m\n",
      "\n",
      "keine Änderungen zum Commit vorgemerkt (benutzen Sie \"git add\" und/oder \"git commit -a\")\n",
      "time: 143 ms\n"
     ]
    }
   ],
   "source": [
    "!git status"
   ]
  },
  {
   "cell_type": "code",
   "execution_count": 16,
   "id": "a9a7e740-2661-43c1-9743-bef78afaba54",
   "metadata": {},
   "outputs": [
    {
     "name": "stdout",
     "output_type": "stream",
     "text": [
      "time: 156 ms\n"
     ]
    }
   ],
   "source": [
    "!git add --all"
   ]
  },
  {
   "cell_type": "code",
   "execution_count": 17,
   "id": "f5ed7e73-e40b-4de9-858d-54a1530018cb",
   "metadata": {},
   "outputs": [
    {
     "name": "stdout",
     "output_type": "stream",
     "text": [
      "[main 06f5ccf] ֹ\n",
      " 2 files changed, 201 insertions(+), 13 deletions(-)\n",
      "time: 179 ms\n"
     ]
    }
   ],
   "source": [
    "# Commit message eintragen und run\n",
    "!git commit -m \"ֹ\""
   ]
  },
  {
   "cell_type": "code",
   "execution_count": 14,
   "id": "2aba6515-d4a9-4a7e-a47a-d1c7aa881c36",
   "metadata": {},
   "outputs": [
    {
     "name": "stdout",
     "output_type": "stream",
     "text": [
      "Stop Time:  13:38:21\n",
      "Elapsed:    42 secs\n"
     ]
    },
    {
     "data": {
      "text/html": [
       "<img src onerror=\"var cell = this.closest('.jp-CodeCell');var editor = cell.querySelector('.jp-Editor');editor.style.background='DarkGray';this.parentNode.removeChild(this)\">"
      ],
      "text/plain": [
       "<IPython.core.display.HTML object>"
      ]
     },
     "metadata": {},
     "output_type": "display_data"
    },
    {
     "name": "stdout",
     "output_type": "stream",
     "text": [
      "time: 37.5 ms\n"
     ]
    }
   ],
   "source": [
    "raise Stop"
   ]
  },
  {
   "cell_type": "markdown",
   "id": "e62fe388-b5f9-408c-b6e6-b6e87eba5876",
   "metadata": {},
   "source": [
    "* Terminal ins Verzeichnis öffnen\n",
    "* `git push origin master`\n",
    "* Personal Access Token verwenden statt Passwort\n",
    "* überprüfen: https://github.com/djekra/bj_nlp"
   ]
  },
  {
   "cell_type": "markdown",
   "id": "c7654839-a06f-4024-a72f-5e081082af6b",
   "metadata": {},
   "source": [
    "## Publish on pypi.org"
   ]
  },
  {
   "cell_type": "markdown",
   "id": "2b5b5f7b-8225-4b21-b483-bcad5702b726",
   "metadata": {},
   "source": [
    "* `python -m twine upload --skip-existing dist/*` \n",
    "* Version überprüfen: https://pypi.org/project/bj_nlp/"
   ]
  },
  {
   "cell_type": "code",
   "execution_count": null,
   "id": "42124620-1dac-401c-9780-8b78c5f1c9e2",
   "metadata": {},
   "outputs": [],
   "source": [
    "# Nicht nötig\n",
    "# Publish on test.pypi.org\n",
    "# python -m twine upload --repository testpypi --skip-existing dist/* "
   ]
  },
  {
   "cell_type": "markdown",
   "id": "16c9f64f-40af-41ac-90db-f802bb8f73c1",
   "metadata": {},
   "source": [
    "## Test from PyPi"
   ]
  },
  {
   "cell_type": "code",
   "execution_count": null,
   "id": "3af8896f-3f40-4d28-a365-fc4c0cb4228f",
   "metadata": {},
   "outputs": [],
   "source": [
    "# uninstall\n",
    "!pip uninstall -y bj_nlp"
   ]
  },
  {
   "cell_type": "code",
   "execution_count": null,
   "id": "8ea8f83c-6970-424a-993d-f8e378e5faa9",
   "metadata": {},
   "outputs": [],
   "source": [
    "!pip install bj_nlp --no-cache-dir "
   ]
  },
  {
   "cell_type": "code",
   "execution_count": null,
   "id": "5655c1d6-916d-4f5a-90aa-1877b6a5317b",
   "metadata": {},
   "outputs": [],
   "source": [
    "# blab init\n",
    "try:\n",
    "    import blab\n",
    "    startup_notebook = blab.blab_startup()\n",
    "    %run $startup_notebook\n",
    "except:\n",
    "    pass"
   ]
  },
  {
   "cell_type": "code",
   "execution_count": null,
   "id": "b1a1633d-62ad-4088-8b90-6447cc84daf6",
   "metadata": {},
   "outputs": [],
   "source": [
    "# test script\n",
    "!bj_nlp"
   ]
  }
 ],
 "metadata": {
  "kernelspec": {
   "display_name": "Python 3 (ipykernel)",
   "language": "python",
   "name": "python3"
  },
  "language_info": {
   "codemirror_mode": {
    "name": "ipython",
    "version": 3
   },
   "file_extension": ".py",
   "mimetype": "text/x-python",
   "name": "python",
   "nbconvert_exporter": "python",
   "pygments_lexer": "ipython3",
   "version": "3.9.13"
  }
 },
 "nbformat": 4,
 "nbformat_minor": 5
}
