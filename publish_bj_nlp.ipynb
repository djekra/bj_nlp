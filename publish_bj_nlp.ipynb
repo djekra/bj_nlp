{
 "cells": [
  {
   "cell_type": "markdown",
   "id": "161c7fec-18c9-4111-a964-ce15e4db5cbb",
   "metadata": {},
   "source": [
    "## Create README"
   ]
  },
  {
   "cell_type": "code",
   "execution_count": 1,
   "id": "037e1ac6-c843-4bdb-a6a6-4221f7194542",
   "metadata": {
    "execution": {
     "iopub.execute_input": "2023-02-24T13:21:09.724795Z",
     "iopub.status.busy": "2023-02-24T13:21:09.723904Z",
     "iopub.status.idle": "2023-02-24T13:21:12.113938Z",
     "shell.execute_reply": "2023-02-24T13:21:12.113160Z",
     "shell.execute_reply.started": "2023-02-24T13:21:09.724702Z"
    }
   },
   "outputs": [
    {
     "name": "stdout",
     "output_type": "stream",
     "text": [
      "[NbConvertApp] Converting notebook README.ipynb to markdown\n",
      "[NbConvertApp] Writing 143 bytes to README.md\n"
     ]
    }
   ],
   "source": [
    "!jupyter nbconvert --ClearMetadataPreprocessor.enabled=True --ClearOutput.enabled=True --to markdown README.ipynb"
   ]
  },
  {
   "cell_type": "markdown",
   "id": "a4547f78-251b-45b5-a478-27dc691d193b",
   "metadata": {},
   "source": [
    "## Local install"
   ]
  },
  {
   "cell_type": "code",
   "execution_count": 2,
   "id": "b6454e67-63bf-4429-9f87-fbec0e99cfd1",
   "metadata": {
    "execution": {
     "iopub.execute_input": "2023-02-24T13:21:12.115273Z",
     "iopub.status.busy": "2023-02-24T13:21:12.115046Z",
     "iopub.status.idle": "2023-02-24T13:21:16.017872Z",
     "shell.execute_reply": "2023-02-24T13:21:16.017132Z",
     "shell.execute_reply.started": "2023-02-24T13:21:12.115251Z"
    }
   },
   "outputs": [
    {
     "name": "stdout",
     "output_type": "stream",
     "text": [
      "Found existing installation: bj-nlp 0.0.1\n",
      "Uninstalling bj-nlp-0.0.1:\n",
      "  Successfully uninstalled bj-nlp-0.0.1\n"
     ]
    }
   ],
   "source": [
    "# uninstall\n",
    "!pip uninstall -y bj_nlp"
   ]
  },
  {
   "cell_type": "code",
   "execution_count": 3,
   "id": "f345ee0f-748f-40be-8578-8ad4ac4d9fe3",
   "metadata": {
    "execution": {
     "iopub.execute_input": "2023-02-24T13:21:16.018885Z",
     "iopub.status.busy": "2023-02-24T13:21:16.018663Z",
     "iopub.status.idle": "2023-02-24T13:21:28.672903Z",
     "shell.execute_reply": "2023-02-24T13:21:28.672081Z",
     "shell.execute_reply.started": "2023-02-24T13:21:16.018862Z"
    }
   },
   "outputs": [
    {
     "name": "stdout",
     "output_type": "stream",
     "text": [
      "Obtaining file:///home/me/Data_Linux/Dropbox/31_Projekte/01_Python/git/bj_nlp\n",
      "  Installing build dependencies ... \u001b[?25ldone\n",
      "\u001b[?25h  Checking if build backend supports build_editable ... \u001b[?25ldone\n",
      "\u001b[?25h  Getting requirements to build editable ... \u001b[?25ldone\n",
      "\u001b[?25h  Preparing editable metadata (pyproject.toml) ... \u001b[?25ldone\n",
      "\u001b[?25hRequirement already satisfied: bpyth in /home/me/mambaforge/envs/python_06/lib/python3.9/site-packages (from bj-nlp==0.0.1) (0.1.8)\n",
      "Building wheels for collected packages: bj-nlp\n",
      "  Building editable for bj-nlp (pyproject.toml) ... \u001b[?25ldone\n",
      "\u001b[?25h  Created wheel for bj-nlp: filename=bj_nlp-0.0.1-0.editable-py3-none-any.whl size=2551 sha256=02b920cf75520db749939c780ac8ff24785369fc7cb8661dcf2b51552974b83b\n",
      "  Stored in directory: /tmp/pip-ephem-wheel-cache-ltksqt0k/wheels/c6/42/37/5297650282a090a830d495bcf1c8c840df18fa1ff984a20ffa\n",
      "Successfully built bj-nlp\n",
      "Installing collected packages: bj-nlp\n",
      "Successfully installed bj-nlp-0.0.1\n"
     ]
    }
   ],
   "source": [
    "# install locally\n",
    "!python -m pip install -e ."
   ]
  },
  {
   "cell_type": "code",
   "execution_count": 4,
   "id": "8cec0e88-e3c2-4020-b9c9-176bcd255c46",
   "metadata": {
    "execution": {
     "iopub.execute_input": "2023-02-24T13:21:28.674901Z",
     "iopub.status.busy": "2023-02-24T13:21:28.674624Z",
     "iopub.status.idle": "2023-02-24T13:21:32.628054Z",
     "shell.execute_reply": "2023-02-24T13:21:32.627225Z",
     "shell.execute_reply.started": "2023-02-24T13:21:28.674870Z"
    }
   },
   "outputs": [
    {
     "name": "stdout",
     "output_type": "stream",
     "text": [
      "Name: bj-nlp\n",
      "Version: 0.0.1\n",
      "Summary: Various NLP Tools\n",
      "Home-page: \n",
      "Author: \n",
      "Author-email: djekra <hopsalla@gmail.com>\n",
      "License: MIT\n",
      "Location: /home/me/mambaforge/envs/python_06/lib/python3.9/site-packages\n",
      "Requires: bpyth\n",
      "Required-by: \n"
     ]
    }
   ],
   "source": [
    "# show\n",
    "!pip show bj_nlp"
   ]
  },
  {
   "cell_type": "code",
   "execution_count": 5,
   "id": "baf8f2b6-2bb4-4460-b654-f4454bfec48f",
   "metadata": {
    "execution": {
     "iopub.execute_input": "2023-02-24T13:21:32.630429Z",
     "iopub.status.busy": "2023-02-24T13:21:32.630123Z",
     "iopub.status.idle": "2023-02-24T13:21:38.145164Z",
     "shell.execute_reply": "2023-02-24T13:21:38.144529Z",
     "shell.execute_reply.started": "2023-02-24T13:21:32.630400Z"
    }
   },
   "outputs": [],
   "source": [
    "# test import\n",
    "# Wenn dies failed: Restart Kernel and Run all Cells\n",
    "import bj_nlp"
   ]
  },
  {
   "cell_type": "code",
   "execution_count": 6,
   "id": "43f0bbdd-2df6-4534-a86e-77657d0329da",
   "metadata": {
    "execution": {
     "iopub.execute_input": "2023-02-24T13:21:38.149800Z",
     "iopub.status.busy": "2023-02-24T13:21:38.149065Z",
     "iopub.status.idle": "2023-02-24T13:21:44.738847Z",
     "shell.execute_reply": "2023-02-24T13:21:44.737938Z",
     "shell.execute_reply.started": "2023-02-24T13:21:38.149770Z"
    }
   },
   "outputs": [
    {
     "name": "stdout",
     "output_type": "stream",
     "text": [
      "Hello bj_nlp 0.0.1\n"
     ]
    }
   ],
   "source": [
    "# test script\n",
    "!bj_nlp"
   ]
  },
  {
   "cell_type": "code",
   "execution_count": 7,
   "id": "4ee9af0c-5d40-48c7-8c8d-61526a6f05d5",
   "metadata": {
    "execution": {
     "iopub.execute_input": "2023-02-24T13:21:44.740112Z",
     "iopub.status.busy": "2023-02-24T13:21:44.739852Z",
     "iopub.status.idle": "2023-02-24T13:21:45.191051Z",
     "shell.execute_reply": "2023-02-24T13:21:45.189037Z",
     "shell.execute_reply.started": "2023-02-24T13:21:44.740087Z"
    }
   },
   "outputs": [
    {
     "name": "stdout",
     "output_type": "stream",
     "text": [
      "blab init\n",
      "environment['in_colab']     = False\n",
      "environment['dropbox_path'] = /home/me/Data_Linux/Dropbox\n",
      "environment['lib_path']     = /home/me/Data_Linux/Dropbox/31_Projekte/01_Python/libs\n",
      "Start Time: 14:21:44\n"
     ]
    },
    {
     "data": {
      "text/html": [
       "<img src onerror=\"var cell = this.closest('.jp-CodeCell');var editor = cell.querySelector('.jp-Editor');editor.style.background='Beige';this.parentNode.removeChild(this)\">"
      ],
      "text/plain": [
       "<IPython.core.display.HTML object>"
      ]
     },
     "metadata": {},
     "output_type": "display_data"
    }
   ],
   "source": [
    "# blab init\n",
    "try:\n",
    "    import blab\n",
    "    startup_notebook = blab.blab_startup()\n",
    "    %run $startup_notebook\n",
    "except:\n",
    "    pass"
   ]
  },
  {
   "cell_type": "code",
   "execution_count": 8,
   "id": "78535e87-dbc9-4dd4-9c30-1db7b581484d",
   "metadata": {
    "execution": {
     "iopub.execute_input": "2023-02-24T13:21:45.192845Z",
     "iopub.status.busy": "2023-02-24T13:21:45.192269Z",
     "iopub.status.idle": "2023-02-24T13:21:45.273003Z",
     "shell.execute_reply": "2023-02-24T13:21:45.269264Z",
     "shell.execute_reply.started": "2023-02-24T13:21:45.192821Z"
    }
   },
   "outputs": [
    {
     "name": "stdout",
     "output_type": "stream",
     "text": [
      "Stop Time:  14:21:45\n",
      "Elapsed:    0 secs\n"
     ]
    },
    {
     "data": {
      "text/html": [
       "<img src onerror=\"var cell = this.closest('.jp-CodeCell');var editor = cell.querySelector('.jp-Editor');editor.style.background='DarkGray';this.parentNode.removeChild(this)\">"
      ],
      "text/plain": [
       "<IPython.core.display.HTML object>"
      ]
     },
     "metadata": {},
     "output_type": "display_data"
    }
   ],
   "source": [
    "raise Stop"
   ]
  },
  {
   "cell_type": "markdown",
   "id": "efa2c656-785f-45b7-a3b5-a9ae251bce06",
   "metadata": {},
   "source": [
    "## build"
   ]
  },
  {
   "cell_type": "code",
   "execution_count": null,
   "id": "f20cbd4d-b38b-4bc9-a750-b14851fb174b",
   "metadata": {
    "execution": {
     "iopub.status.busy": "2023-02-24T13:21:45.277307Z",
     "iopub.status.idle": "2023-02-24T13:21:45.279776Z",
     "shell.execute_reply": "2023-02-24T13:21:45.279483Z",
     "shell.execute_reply.started": "2023-02-24T13:21:45.279453Z"
    }
   },
   "outputs": [],
   "source": [
    "!pip install -q build"
   ]
  },
  {
   "cell_type": "code",
   "execution_count": null,
   "id": "c745f5da-d6e4-408a-aa73-1166ccc6fd5b",
   "metadata": {
    "execution": {
     "iopub.status.busy": "2023-02-24T13:21:45.280748Z",
     "iopub.status.idle": "2023-02-24T13:21:45.291466Z",
     "shell.execute_reply": "2023-02-24T13:21:45.291182Z",
     "shell.execute_reply.started": "2023-02-24T13:21:45.291149Z"
    }
   },
   "outputs": [],
   "source": [
    "!python -m build"
   ]
  },
  {
   "cell_type": "markdown",
   "id": "25343284-bf36-4d18-8dba-1d765348763f",
   "metadata": {},
   "source": [
    "## Publish on github"
   ]
  },
  {
   "cell_type": "code",
   "execution_count": null,
   "id": "d444d5d8-ddb6-451e-9300-fa6424dde8f0",
   "metadata": {
    "execution": {
     "iopub.status.busy": "2023-02-24T13:21:45.293293Z",
     "iopub.status.idle": "2023-02-24T13:21:45.302297Z",
     "shell.execute_reply": "2023-02-24T13:21:45.301921Z",
     "shell.execute_reply.started": "2023-02-24T13:21:45.301869Z"
    }
   },
   "outputs": [],
   "source": [
    "!git status"
   ]
  },
  {
   "cell_type": "code",
   "execution_count": null,
   "id": "033525c7-e40e-451d-9309-3ac35158f59e",
   "metadata": {
    "execution": {
     "iopub.status.busy": "2023-02-24T13:21:45.304017Z",
     "iopub.status.idle": "2023-02-24T13:21:45.304942Z",
     "shell.execute_reply": "2023-02-24T13:21:45.304604Z",
     "shell.execute_reply.started": "2023-02-24T13:21:45.304564Z"
    }
   },
   "outputs": [],
   "source": [
    "!git config credential.helper store"
   ]
  },
  {
   "cell_type": "code",
   "execution_count": null,
   "id": "a9a7e740-2661-43c1-9743-bef78afaba54",
   "metadata": {
    "execution": {
     "iopub.status.busy": "2023-02-24T13:21:45.306416Z",
     "iopub.status.idle": "2023-02-24T13:21:45.306736Z",
     "shell.execute_reply": "2023-02-24T13:21:45.306603Z",
     "shell.execute_reply.started": "2023-02-24T13:21:45.306588Z"
    }
   },
   "outputs": [],
   "source": [
    "!git add --all"
   ]
  },
  {
   "cell_type": "code",
   "execution_count": null,
   "id": "f5ed7e73-e40b-4de9-858d-54a1530018cb",
   "metadata": {
    "execution": {
     "iopub.status.busy": "2023-02-24T13:21:45.307828Z",
     "iopub.status.idle": "2023-02-24T13:21:45.308146Z",
     "shell.execute_reply": "2023-02-24T13:21:45.308012Z",
     "shell.execute_reply.started": "2023-02-24T13:21:45.307996Z"
    }
   },
   "outputs": [],
   "source": [
    "# Commit message eintragen und run\n",
    "!git commit -m \"ֹ\""
   ]
  },
  {
   "cell_type": "code",
   "execution_count": null,
   "id": "2aba6515-d4a9-4a7e-a47a-d1c7aa881c36",
   "metadata": {
    "execution": {
     "iopub.status.busy": "2023-02-24T13:21:45.309106Z",
     "iopub.status.idle": "2023-02-24T13:21:45.309444Z",
     "shell.execute_reply": "2023-02-24T13:21:45.309304Z",
     "shell.execute_reply.started": "2023-02-24T13:21:45.309288Z"
    }
   },
   "outputs": [],
   "source": [
    "raise Stop"
   ]
  },
  {
   "cell_type": "markdown",
   "id": "e62fe388-b5f9-408c-b6e6-b6e87eba5876",
   "metadata": {},
   "source": [
    "* Terminal ins Verzeichnis öffnen\n",
    "* `git push origin master`\n",
    "* Personal Access Token verwenden statt Passwort\n",
    "* überprüfen: https://github.com/djekra/bj_nlp"
   ]
  },
  {
   "cell_type": "markdown",
   "id": "c7654839-a06f-4024-a72f-5e081082af6b",
   "metadata": {},
   "source": [
    "## Publish on pypi.org"
   ]
  },
  {
   "cell_type": "markdown",
   "id": "2b5b5f7b-8225-4b21-b483-bcad5702b726",
   "metadata": {},
   "source": [
    "* `python -m twine upload --skip-existing dist/*` \n",
    "* Version überprüfen: https://pypi.org/project/bj_nlp/"
   ]
  },
  {
   "cell_type": "code",
   "execution_count": null,
   "id": "42124620-1dac-401c-9780-8b78c5f1c9e2",
   "metadata": {
    "execution": {
     "iopub.status.busy": "2023-02-24T13:21:45.310335Z",
     "iopub.status.idle": "2023-02-24T13:21:45.310797Z",
     "shell.execute_reply": "2023-02-24T13:21:45.310654Z",
     "shell.execute_reply.started": "2023-02-24T13:21:45.310636Z"
    }
   },
   "outputs": [],
   "source": [
    "# Nicht nötig\n",
    "# Publish on test.pypi.org\n",
    "# python -m twine upload --repository testpypi --skip-existing dist/* "
   ]
  },
  {
   "cell_type": "markdown",
   "id": "16c9f64f-40af-41ac-90db-f802bb8f73c1",
   "metadata": {},
   "source": [
    "## Test from PyPi"
   ]
  },
  {
   "cell_type": "code",
   "execution_count": null,
   "id": "3af8896f-3f40-4d28-a365-fc4c0cb4228f",
   "metadata": {
    "execution": {
     "iopub.status.busy": "2023-02-24T13:21:45.315442Z",
     "iopub.status.idle": "2023-02-24T13:21:45.318857Z",
     "shell.execute_reply": "2023-02-24T13:21:45.318442Z",
     "shell.execute_reply.started": "2023-02-24T13:21:45.318380Z"
    }
   },
   "outputs": [],
   "source": [
    "# uninstall\n",
    "!pip uninstall -y bj_nlp"
   ]
  },
  {
   "cell_type": "code",
   "execution_count": null,
   "id": "8ea8f83c-6970-424a-993d-f8e378e5faa9",
   "metadata": {
    "execution": {
     "iopub.status.busy": "2023-02-24T13:21:45.320791Z",
     "iopub.status.idle": "2023-02-24T13:21:45.325371Z",
     "shell.execute_reply": "2023-02-24T13:21:45.324878Z",
     "shell.execute_reply.started": "2023-02-24T13:21:45.324823Z"
    }
   },
   "outputs": [],
   "source": [
    "!pip install bj_nlp --no-cache-dir "
   ]
  },
  {
   "cell_type": "code",
   "execution_count": null,
   "id": "5655c1d6-916d-4f5a-90aa-1877b6a5317b",
   "metadata": {
    "execution": {
     "iopub.status.busy": "2023-02-24T13:21:45.327153Z",
     "iopub.status.idle": "2023-02-24T13:21:45.328006Z",
     "shell.execute_reply": "2023-02-24T13:21:45.327747Z",
     "shell.execute_reply.started": "2023-02-24T13:21:45.327707Z"
    }
   },
   "outputs": [],
   "source": [
    "# blab init\n",
    "try:\n",
    "    import blab\n",
    "    startup_notebook = blab.blab_startup()\n",
    "    %run $startup_notebook\n",
    "except:\n",
    "    pass"
   ]
  },
  {
   "cell_type": "code",
   "execution_count": null,
   "id": "b1a1633d-62ad-4088-8b90-6447cc84daf6",
   "metadata": {
    "execution": {
     "iopub.status.busy": "2023-02-24T13:21:45.329131Z",
     "iopub.status.idle": "2023-02-24T13:21:45.333364Z",
     "shell.execute_reply": "2023-02-24T13:21:45.333139Z",
     "shell.execute_reply.started": "2023-02-24T13:21:45.333109Z"
    },
    "tags": []
   },
   "outputs": [],
   "source": [
    "# test script\n",
    "!bj_nlp"
   ]
  }
 ],
 "metadata": {
  "kernelspec": {
   "display_name": "Python 3 (ipykernel)",
   "language": "python",
   "name": "python3"
  },
  "language_info": {
   "codemirror_mode": {
    "name": "ipython",
    "version": 3
   },
   "file_extension": ".py",
   "mimetype": "text/x-python",
   "name": "python",
   "nbconvert_exporter": "python",
   "pygments_lexer": "ipython3",
   "version": "3.9.13"
  }
 },
 "nbformat": 4,
 "nbformat_minor": 5
}
