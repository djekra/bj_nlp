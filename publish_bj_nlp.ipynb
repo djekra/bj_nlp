{
 "cells": [
  {
   "cell_type": "markdown",
   "id": "161c7fec-18c9-4111-a964-ce15e4db5cbb",
   "metadata": {},
   "source": [
    "## Create README"
   ]
  },
  {
   "cell_type": "code",
   "execution_count": 9,
   "id": "037e1ac6-c843-4bdb-a6a6-4221f7194542",
   "metadata": {
    "execution": {
     "iopub.execute_input": "2023-02-24T20:42:21.148098Z",
     "iopub.status.busy": "2023-02-24T20:42:21.145873Z",
     "iopub.status.idle": "2023-02-24T20:42:23.112184Z",
     "shell.execute_reply": "2023-02-24T20:42:23.110602Z",
     "shell.execute_reply.started": "2023-02-24T20:42:21.147994Z"
    }
   },
   "outputs": [
    {
     "name": "stdout",
     "output_type": "stream",
     "text": [
      "[NbConvertApp] Converting notebook README.ipynb to markdown\n",
      "[NbConvertApp] Writing 143 bytes to README.md\n"
     ]
    }
   ],
   "source": [
    "!jupyter nbconvert --ClearMetadataPreprocessor.enabled=True --ClearOutput.enabled=True --to markdown README.ipynb"
   ]
  },
  {
   "cell_type": "markdown",
   "id": "a4547f78-251b-45b5-a478-27dc691d193b",
   "metadata": {},
   "source": [
    "## Local install"
   ]
  },
  {
   "cell_type": "code",
   "execution_count": 10,
   "id": "b6454e67-63bf-4429-9f87-fbec0e99cfd1",
   "metadata": {
    "execution": {
     "iopub.execute_input": "2023-02-24T20:42:23.123293Z",
     "iopub.status.busy": "2023-02-24T20:42:23.122839Z",
     "iopub.status.idle": "2023-02-24T20:42:24.853786Z",
     "shell.execute_reply": "2023-02-24T20:42:24.852076Z",
     "shell.execute_reply.started": "2023-02-24T20:42:23.123264Z"
    }
   },
   "outputs": [
    {
     "name": "stdout",
     "output_type": "stream",
     "text": [
      "Found existing installation: bj-nlp 0.0.1\n",
      "Uninstalling bj-nlp-0.0.1:\n",
      "  Successfully uninstalled bj-nlp-0.0.1\n"
     ]
    }
   ],
   "source": [
    "# uninstall\n",
    "!pip uninstall -y bj_nlp"
   ]
  },
  {
   "cell_type": "code",
   "execution_count": 11,
   "id": "f345ee0f-748f-40be-8578-8ad4ac4d9fe3",
   "metadata": {
    "execution": {
     "iopub.execute_input": "2023-02-24T20:42:24.860720Z",
     "iopub.status.busy": "2023-02-24T20:42:24.856386Z",
     "iopub.status.idle": "2023-02-24T20:42:34.002918Z",
     "shell.execute_reply": "2023-02-24T20:42:34.000138Z",
     "shell.execute_reply.started": "2023-02-24T20:42:24.860655Z"
    }
   },
   "outputs": [
    {
     "name": "stdout",
     "output_type": "stream",
     "text": [
      "Obtaining file:///home/me/Data_Linux/Dropbox/31_Projekte/01_Python/git/bj_nlp\n",
      "  Installing build dependencies ... \u001b[?25ldone\n",
      "\u001b[?25h  Checking if build backend supports build_editable ... \u001b[?25ldone\n",
      "\u001b[?25h  Getting requirements to build editable ... \u001b[?25ldone\n",
      "\u001b[?25h  Preparing editable metadata (pyproject.toml) ... \u001b[?25ldone\n",
      "\u001b[?25hRequirement already satisfied: bpyth in /home/me/mambaforge/envs/python_06/lib/python3.9/site-packages (from bj-nlp==0.0.2) (0.1.8)\n",
      "Building wheels for collected packages: bj-nlp\n",
      "  Building editable for bj-nlp (pyproject.toml) ... \u001b[?25ldone\n",
      "\u001b[?25h  Created wheel for bj-nlp: filename=bj_nlp-0.0.2-0.editable-py3-none-any.whl size=2551 sha256=393b68104f2304d507dcffd3162e38c5c084cdc67ac07e974659858bfae7316f\n",
      "  Stored in directory: /tmp/pip-ephem-wheel-cache-_5y3elap/wheels/c6/42/37/5297650282a090a830d495bcf1c8c840df18fa1ff984a20ffa\n",
      "Successfully built bj-nlp\n",
      "Installing collected packages: bj-nlp\n",
      "Successfully installed bj-nlp-0.0.2\n"
     ]
    }
   ],
   "source": [
    "# install locally\n",
    "!python -m pip install -e ."
   ]
  },
  {
   "cell_type": "code",
   "execution_count": 12,
   "id": "8cec0e88-e3c2-4020-b9c9-176bcd255c46",
   "metadata": {
    "execution": {
     "iopub.execute_input": "2023-02-24T20:42:34.013193Z",
     "iopub.status.busy": "2023-02-24T20:42:34.010860Z",
     "iopub.status.idle": "2023-02-24T20:42:36.863551Z",
     "shell.execute_reply": "2023-02-24T20:42:36.861691Z",
     "shell.execute_reply.started": "2023-02-24T20:42:34.013080Z"
    }
   },
   "outputs": [
    {
     "name": "stdout",
     "output_type": "stream",
     "text": [
      "Name: bj-nlp\n",
      "Version: 0.0.2\n",
      "Summary: Various NLP Tools\n",
      "Home-page: \n",
      "Author: \n",
      "Author-email: djekra <hopsalla@gmail.com>\n",
      "License: MIT\n",
      "Location: /home/me/mambaforge/envs/python_06/lib/python3.9/site-packages\n",
      "Requires: bpyth\n",
      "Required-by: \n"
     ]
    }
   ],
   "source": [
    "# show\n",
    "!pip show bj_nlp"
   ]
  },
  {
   "cell_type": "code",
   "execution_count": 13,
   "id": "baf8f2b6-2bb4-4460-b654-f4454bfec48f",
   "metadata": {
    "execution": {
     "iopub.execute_input": "2023-02-24T20:42:36.867853Z",
     "iopub.status.busy": "2023-02-24T20:42:36.867299Z",
     "iopub.status.idle": "2023-02-24T20:42:36.944785Z",
     "shell.execute_reply": "2023-02-24T20:42:36.942577Z",
     "shell.execute_reply.started": "2023-02-24T20:42:36.867800Z"
    }
   },
   "outputs": [],
   "source": [
    "# test import\n",
    "# Wenn dies failed: Restart Kernel and Run all Cells\n",
    "import bj_nlp"
   ]
  },
  {
   "cell_type": "code",
   "execution_count": 14,
   "id": "43f0bbdd-2df6-4534-a86e-77657d0329da",
   "metadata": {
    "execution": {
     "iopub.execute_input": "2023-02-24T20:42:36.948408Z",
     "iopub.status.busy": "2023-02-24T20:42:36.948007Z",
     "iopub.status.idle": "2023-02-24T20:42:41.618953Z",
     "shell.execute_reply": "2023-02-24T20:42:41.616166Z",
     "shell.execute_reply.started": "2023-02-24T20:42:36.948376Z"
    }
   },
   "outputs": [
    {
     "name": "stdout",
     "output_type": "stream",
     "text": [
      "Hello bj_nlp 0.0.2\n"
     ]
    }
   ],
   "source": [
    "# test script\n",
    "!bj_nlp"
   ]
  },
  {
   "cell_type": "code",
   "execution_count": 15,
   "id": "4ee9af0c-5d40-48c7-8c8d-61526a6f05d5",
   "metadata": {
    "execution": {
     "iopub.execute_input": "2023-02-24T20:42:41.637634Z",
     "iopub.status.busy": "2023-02-24T20:42:41.622736Z",
     "iopub.status.idle": "2023-02-24T20:42:41.850170Z",
     "shell.execute_reply": "2023-02-24T20:42:41.849534Z",
     "shell.execute_reply.started": "2023-02-24T20:42:41.637507Z"
    }
   },
   "outputs": [
    {
     "name": "stdout",
     "output_type": "stream",
     "text": [
      "blab init\n",
      "environment['in_colab']     = False\n",
      "environment['dropbox_path'] = /home/me/Data_Linux/Dropbox\n",
      "environment['lib_path']     = /home/me/Data_Linux/Dropbox/31_Projekte/01_Python/libs\n",
      "Start Time: 21:42:41\n"
     ]
    },
    {
     "data": {
      "text/html": [
       "<img src onerror=\"var cell = this.closest('.jp-CodeCell');var editor = cell.querySelector('.jp-Editor');editor.style.background='Beige';this.parentNode.removeChild(this)\">"
      ],
      "text/plain": [
       "<IPython.core.display.HTML object>"
      ]
     },
     "metadata": {},
     "output_type": "display_data"
    }
   ],
   "source": [
    "# blab init\n",
    "try:\n",
    "    import blab\n",
    "    startup_notebook = blab.blab_startup()\n",
    "    %run $startup_notebook\n",
    "except:\n",
    "    pass"
   ]
  },
  {
   "cell_type": "code",
   "execution_count": 16,
   "id": "78535e87-dbc9-4dd4-9c30-1db7b581484d",
   "metadata": {
    "execution": {
     "iopub.execute_input": "2023-02-24T20:42:41.851792Z",
     "iopub.status.busy": "2023-02-24T20:42:41.851202Z",
     "iopub.status.idle": "2023-02-24T20:42:41.894407Z",
     "shell.execute_reply": "2023-02-24T20:42:41.892177Z",
     "shell.execute_reply.started": "2023-02-24T20:42:41.851768Z"
    }
   },
   "outputs": [
    {
     "name": "stdout",
     "output_type": "stream",
     "text": [
      "Stop Time:  21:42:41\n",
      "Elapsed:    0 secs\n"
     ]
    },
    {
     "data": {
      "text/html": [
       "<img src onerror=\"var cell = this.closest('.jp-CodeCell');var editor = cell.querySelector('.jp-Editor');editor.style.background='DarkGray';this.parentNode.removeChild(this)\">"
      ],
      "text/plain": [
       "<IPython.core.display.HTML object>"
      ]
     },
     "metadata": {},
     "output_type": "display_data"
    }
   ],
   "source": [
    "raise Stop"
   ]
  },
  {
   "cell_type": "markdown",
   "id": "efa2c656-785f-45b7-a3b5-a9ae251bce06",
   "metadata": {},
   "source": [
    "## build"
   ]
  },
  {
   "cell_type": "code",
   "execution_count": 17,
   "id": "f20cbd4d-b38b-4bc9-a750-b14851fb174b",
   "metadata": {
    "execution": {
     "iopub.execute_input": "2023-02-24T20:42:53.842363Z",
     "iopub.status.busy": "2023-02-24T20:42:53.841024Z",
     "iopub.status.idle": "2023-02-24T20:42:57.319828Z",
     "shell.execute_reply": "2023-02-24T20:42:57.317601Z",
     "shell.execute_reply.started": "2023-02-24T20:42:53.842328Z"
    }
   },
   "outputs": [],
   "source": [
    "!pip install -q build"
   ]
  },
  {
   "cell_type": "code",
   "execution_count": 18,
   "id": "c745f5da-d6e4-408a-aa73-1166ccc6fd5b",
   "metadata": {
    "execution": {
     "iopub.execute_input": "2023-02-24T20:42:57.323547Z",
     "iopub.status.busy": "2023-02-24T20:42:57.323142Z",
     "iopub.status.idle": "2023-02-24T20:43:06.001272Z",
     "shell.execute_reply": "2023-02-24T20:43:05.999205Z",
     "shell.execute_reply.started": "2023-02-24T20:42:57.323513Z"
    }
   },
   "outputs": [
    {
     "name": "stdout",
     "output_type": "stream",
     "text": [
      "\u001b[1m* Creating virtualenv isolated environment...\u001b[0m\n",
      "\u001b[1m* Installing packages in isolated environment... (setuptools>=61.0.0, wheel)\u001b[0m\n",
      "\u001b[1m* Getting build dependencies for sdist...\u001b[0m\n",
      "/tmp/build-env-sp9eoxa9/lib/python3.9/site-packages/setuptools/config/pyprojecttoml.py:108: _BetaConfiguration: Support for `[tool.setuptools]` in `pyproject.toml` is still *beta*.\n",
      "  warnings.warn(msg, _BetaConfiguration)\n",
      "running egg_info\n",
      "writing src/bj_nlp.egg-info/PKG-INFO\n",
      "writing dependency_links to src/bj_nlp.egg-info/dependency_links.txt\n",
      "writing entry points to src/bj_nlp.egg-info/entry_points.txt\n",
      "writing requirements to src/bj_nlp.egg-info/requires.txt\n",
      "writing top-level names to src/bj_nlp.egg-info/top_level.txt\n",
      "reading manifest file 'src/bj_nlp.egg-info/SOURCES.txt'\n",
      "adding license file 'LICENSE'\n",
      "writing manifest file 'src/bj_nlp.egg-info/SOURCES.txt'\n",
      "\u001b[1m* Building sdist...\u001b[0m\n",
      "/tmp/build-env-sp9eoxa9/lib/python3.9/site-packages/setuptools/config/pyprojecttoml.py:108: _BetaConfiguration: Support for `[tool.setuptools]` in `pyproject.toml` is still *beta*.\n",
      "  warnings.warn(msg, _BetaConfiguration)\n",
      "running sdist\n",
      "running egg_info\n",
      "writing src/bj_nlp.egg-info/PKG-INFO\n",
      "writing dependency_links to src/bj_nlp.egg-info/dependency_links.txt\n",
      "writing entry points to src/bj_nlp.egg-info/entry_points.txt\n",
      "writing requirements to src/bj_nlp.egg-info/requires.txt\n",
      "writing top-level names to src/bj_nlp.egg-info/top_level.txt\n",
      "reading manifest file 'src/bj_nlp.egg-info/SOURCES.txt'\n",
      "adding license file 'LICENSE'\n",
      "writing manifest file 'src/bj_nlp.egg-info/SOURCES.txt'\n",
      "running check\n",
      "creating bj_nlp-0.0.2\n",
      "creating bj_nlp-0.0.2/src\n",
      "creating bj_nlp-0.0.2/src/bj_nlp\n",
      "creating bj_nlp-0.0.2/src/bj_nlp.egg-info\n",
      "copying files to bj_nlp-0.0.2...\n",
      "copying LICENSE -> bj_nlp-0.0.2\n",
      "copying README.md -> bj_nlp-0.0.2\n",
      "copying pyproject.toml -> bj_nlp-0.0.2\n",
      "copying src/bj_nlp/Preprocessing.py -> bj_nlp-0.0.2/src/bj_nlp\n",
      "copying src/bj_nlp/Testtext.py -> bj_nlp-0.0.2/src/bj_nlp\n",
      "copying src/bj_nlp/_PandaziseMixin.py -> bj_nlp-0.0.2/src/bj_nlp\n",
      "copying src/bj_nlp/_UtilsMixin.py -> bj_nlp-0.0.2/src/bj_nlp\n",
      "copying src/bj_nlp/__init__.py -> bj_nlp-0.0.2/src/bj_nlp\n",
      "copying src/bj_nlp/__main__.py -> bj_nlp-0.0.2/src/bj_nlp\n",
      "copying src/bj_nlp/blpClass.py -> bj_nlp-0.0.2/src/bj_nlp\n",
      "copying src/bj_nlp/c01_merger.py -> bj_nlp-0.0.2/src/bj_nlp\n",
      "copying src/bj_nlp/c05_wrede.py -> bj_nlp-0.0.2/src/bj_nlp\n",
      "copying src/bj_nlp/c10_wortschatz.py -> bj_nlp-0.0.2/src/bj_nlp\n",
      "copying src/bj_nlp/c11_wortschatz - Original.py -> bj_nlp-0.0.2/src/bj_nlp\n",
      "copying src/bj_nlp/diff_grammatik ###.ipynb -> bj_nlp-0.0.2/src/bj_nlp\n",
      "copying src/bj_nlp/diff_grammatik ###.py -> bj_nlp-0.0.2/src/bj_nlp\n",
      "copying src/bj_nlp/translate_tags.py -> bj_nlp-0.0.2/src/bj_nlp\n",
      "copying src/bj_nlp.egg-info/PKG-INFO -> bj_nlp-0.0.2/src/bj_nlp.egg-info\n",
      "copying src/bj_nlp.egg-info/SOURCES.txt -> bj_nlp-0.0.2/src/bj_nlp.egg-info\n",
      "copying src/bj_nlp.egg-info/dependency_links.txt -> bj_nlp-0.0.2/src/bj_nlp.egg-info\n",
      "copying src/bj_nlp.egg-info/entry_points.txt -> bj_nlp-0.0.2/src/bj_nlp.egg-info\n",
      "copying src/bj_nlp.egg-info/requires.txt -> bj_nlp-0.0.2/src/bj_nlp.egg-info\n",
      "copying src/bj_nlp.egg-info/top_level.txt -> bj_nlp-0.0.2/src/bj_nlp.egg-info\n",
      "Writing bj_nlp-0.0.2/setup.cfg\n",
      "Creating tar archive\n",
      "removing 'bj_nlp-0.0.2' (and everything under it)\n",
      "\u001b[1m* Building wheel from sdist\u001b[0m\n",
      "\u001b[1m* Creating virtualenv isolated environment...\u001b[0m\n",
      "\u001b[1m* Installing packages in isolated environment... (setuptools>=61.0.0, wheel)\u001b[0m\n",
      "\u001b[1m* Getting build dependencies for wheel...\u001b[0m\n",
      "/tmp/build-env-9tmeyhzq/lib/python3.9/site-packages/setuptools/config/pyprojecttoml.py:108: _BetaConfiguration: Support for `[tool.setuptools]` in `pyproject.toml` is still *beta*.\n",
      "  warnings.warn(msg, _BetaConfiguration)\n",
      "running egg_info\n",
      "writing src/bj_nlp.egg-info/PKG-INFO\n",
      "writing dependency_links to src/bj_nlp.egg-info/dependency_links.txt\n",
      "writing entry points to src/bj_nlp.egg-info/entry_points.txt\n",
      "writing requirements to src/bj_nlp.egg-info/requires.txt\n",
      "writing top-level names to src/bj_nlp.egg-info/top_level.txt\n",
      "reading manifest file 'src/bj_nlp.egg-info/SOURCES.txt'\n",
      "adding license file 'LICENSE'\n",
      "writing manifest file 'src/bj_nlp.egg-info/SOURCES.txt'\n",
      "\u001b[1m* Installing packages in isolated environment... (wheel)\u001b[0m\n",
      "\u001b[1m* Building wheel...\u001b[0m\n",
      "/tmp/build-env-9tmeyhzq/lib/python3.9/site-packages/setuptools/config/pyprojecttoml.py:108: _BetaConfiguration: Support for `[tool.setuptools]` in `pyproject.toml` is still *beta*.\n",
      "  warnings.warn(msg, _BetaConfiguration)\n",
      "running bdist_wheel\n",
      "running build\n",
      "running build_py\n",
      "creating build\n",
      "creating build/lib\n",
      "creating build/lib/bj_nlp\n",
      "copying src/bj_nlp/__main__.py -> build/lib/bj_nlp\n",
      "copying src/bj_nlp/c10_wortschatz.py -> build/lib/bj_nlp\n",
      "copying src/bj_nlp/Testtext.py -> build/lib/bj_nlp\n",
      "copying src/bj_nlp/diff_grammatik ###.py -> build/lib/bj_nlp\n",
      "copying src/bj_nlp/c05_wrede.py -> build/lib/bj_nlp\n",
      "copying src/bj_nlp/c11_wortschatz - Original.py -> build/lib/bj_nlp\n",
      "copying src/bj_nlp/translate_tags.py -> build/lib/bj_nlp\n",
      "copying src/bj_nlp/Preprocessing.py -> build/lib/bj_nlp\n",
      "copying src/bj_nlp/_PandaziseMixin.py -> build/lib/bj_nlp\n",
      "copying src/bj_nlp/_UtilsMixin.py -> build/lib/bj_nlp\n",
      "copying src/bj_nlp/c01_merger.py -> build/lib/bj_nlp\n",
      "copying src/bj_nlp/blpClass.py -> build/lib/bj_nlp\n",
      "copying src/bj_nlp/__init__.py -> build/lib/bj_nlp\n",
      "running egg_info\n",
      "writing src/bj_nlp.egg-info/PKG-INFO\n",
      "writing dependency_links to src/bj_nlp.egg-info/dependency_links.txt\n",
      "writing entry points to src/bj_nlp.egg-info/entry_points.txt\n",
      "writing requirements to src/bj_nlp.egg-info/requires.txt\n",
      "writing top-level names to src/bj_nlp.egg-info/top_level.txt\n",
      "reading manifest file 'src/bj_nlp.egg-info/SOURCES.txt'\n",
      "adding license file 'LICENSE'\n",
      "writing manifest file 'src/bj_nlp.egg-info/SOURCES.txt'\n",
      "copying src/bj_nlp/diff_grammatik ###.ipynb -> build/lib/bj_nlp\n",
      "installing to build/bdist.linux-x86_64/wheel\n",
      "running install\n",
      "running install_lib\n",
      "creating build/bdist.linux-x86_64\n",
      "creating build/bdist.linux-x86_64/wheel\n",
      "creating build/bdist.linux-x86_64/wheel/bj_nlp\n",
      "copying build/lib/bj_nlp/__main__.py -> build/bdist.linux-x86_64/wheel/bj_nlp\n",
      "copying build/lib/bj_nlp/c10_wortschatz.py -> build/bdist.linux-x86_64/wheel/bj_nlp\n",
      "copying build/lib/bj_nlp/Testtext.py -> build/bdist.linux-x86_64/wheel/bj_nlp\n",
      "copying build/lib/bj_nlp/diff_grammatik ###.py -> build/bdist.linux-x86_64/wheel/bj_nlp\n",
      "copying build/lib/bj_nlp/c05_wrede.py -> build/bdist.linux-x86_64/wheel/bj_nlp\n",
      "copying build/lib/bj_nlp/c11_wortschatz - Original.py -> build/bdist.linux-x86_64/wheel/bj_nlp\n",
      "copying build/lib/bj_nlp/translate_tags.py -> build/bdist.linux-x86_64/wheel/bj_nlp\n",
      "copying build/lib/bj_nlp/Preprocessing.py -> build/bdist.linux-x86_64/wheel/bj_nlp\n",
      "copying build/lib/bj_nlp/_PandaziseMixin.py -> build/bdist.linux-x86_64/wheel/bj_nlp\n",
      "copying build/lib/bj_nlp/diff_grammatik ###.ipynb -> build/bdist.linux-x86_64/wheel/bj_nlp\n",
      "copying build/lib/bj_nlp/_UtilsMixin.py -> build/bdist.linux-x86_64/wheel/bj_nlp\n",
      "copying build/lib/bj_nlp/c01_merger.py -> build/bdist.linux-x86_64/wheel/bj_nlp\n",
      "copying build/lib/bj_nlp/blpClass.py -> build/bdist.linux-x86_64/wheel/bj_nlp\n",
      "copying build/lib/bj_nlp/__init__.py -> build/bdist.linux-x86_64/wheel/bj_nlp\n",
      "running install_egg_info\n",
      "Copying src/bj_nlp.egg-info to build/bdist.linux-x86_64/wheel/bj_nlp-0.0.2-py3.9.egg-info\n",
      "running install_scripts\n",
      "creating build/bdist.linux-x86_64/wheel/bj_nlp-0.0.2.dist-info/WHEEL\n",
      "creating '/home/me/Data_Linux/Dropbox/31_Projekte/01_Python/git/bj_nlp/dist/.tmp-s3plz0hi/bj_nlp-0.0.2-py3-none-any.whl' and adding 'build/bdist.linux-x86_64/wheel' to it\n",
      "adding 'bj_nlp/Preprocessing.py'\n",
      "adding 'bj_nlp/Testtext.py'\n",
      "adding 'bj_nlp/_PandaziseMixin.py'\n",
      "adding 'bj_nlp/_UtilsMixin.py'\n",
      "adding 'bj_nlp/__init__.py'\n",
      "adding 'bj_nlp/__main__.py'\n",
      "adding 'bj_nlp/blpClass.py'\n",
      "adding 'bj_nlp/c01_merger.py'\n",
      "adding 'bj_nlp/c05_wrede.py'\n",
      "adding 'bj_nlp/c10_wortschatz.py'\n",
      "adding 'bj_nlp/c11_wortschatz - Original.py'\n",
      "adding 'bj_nlp/diff_grammatik ###.ipynb'\n",
      "adding 'bj_nlp/diff_grammatik ###.py'\n",
      "adding 'bj_nlp/translate_tags.py'\n",
      "adding 'bj_nlp-0.0.2.dist-info/LICENSE'\n",
      "adding 'bj_nlp-0.0.2.dist-info/METADATA'\n",
      "adding 'bj_nlp-0.0.2.dist-info/WHEEL'\n",
      "adding 'bj_nlp-0.0.2.dist-info/entry_points.txt'\n",
      "adding 'bj_nlp-0.0.2.dist-info/top_level.txt'\n",
      "adding 'bj_nlp-0.0.2.dist-info/RECORD'\n",
      "removing build/bdist.linux-x86_64/wheel\n",
      "\u001b[1m\u001b[92mSuccessfully built \u001b[4mbj_nlp-0.0.2.tar.gz\u001b[0m\u001b[1m\u001b[92m and \u001b[4mbj_nlp-0.0.2-py3-none-any.whl\u001b[0m\u001b[1m\u001b[92m\u001b[0m\n"
     ]
    }
   ],
   "source": [
    "!python -m build"
   ]
  },
  {
   "cell_type": "markdown",
   "id": "25343284-bf36-4d18-8dba-1d765348763f",
   "metadata": {},
   "source": [
    "## Publish on github"
   ]
  },
  {
   "cell_type": "code",
   "execution_count": 19,
   "id": "d444d5d8-ddb6-451e-9300-fa6424dde8f0",
   "metadata": {
    "execution": {
     "iopub.execute_input": "2023-02-24T20:43:06.004760Z",
     "iopub.status.busy": "2023-02-24T20:43:06.004117Z",
     "iopub.status.idle": "2023-02-24T20:43:06.338721Z",
     "shell.execute_reply": "2023-02-24T20:43:06.337727Z",
     "shell.execute_reply.started": "2023-02-24T20:43:06.004694Z"
    }
   },
   "outputs": [
    {
     "name": "stdout",
     "output_type": "stream",
     "text": [
      "Auf Branch master\n",
      "Änderungen, die nicht zum Commit vorgemerkt sind:\n",
      "  (benutzen Sie \"git add <Datei>...\", um die Änderungen zum Commit vorzumerken)\n",
      "  (benutzen Sie \"git restore <Datei>...\", um die Änderungen im Arbeitsverzeichnis zu verwerfen)\n",
      "\t\u001b[31mgeändert:       publish_bj_nlp.ipynb\u001b[m\n",
      "\t\u001b[31mgeändert:       pyproject.toml\u001b[m\n",
      "\t\u001b[31mgeändert:       src/bj_nlp/translate_tags.py\u001b[m\n",
      "\n",
      "keine Änderungen zum Commit vorgemerkt (benutzen Sie \"git add\" und/oder \"git commit -a\")\n"
     ]
    }
   ],
   "source": [
    "!git status"
   ]
  },
  {
   "cell_type": "code",
   "execution_count": 20,
   "id": "033525c7-e40e-451d-9309-3ac35158f59e",
   "metadata": {
    "execution": {
     "iopub.execute_input": "2023-02-24T20:43:06.342761Z",
     "iopub.status.busy": "2023-02-24T20:43:06.341905Z",
     "iopub.status.idle": "2023-02-24T20:43:06.560219Z",
     "shell.execute_reply": "2023-02-24T20:43:06.558603Z",
     "shell.execute_reply.started": "2023-02-24T20:43:06.342726Z"
    }
   },
   "outputs": [],
   "source": [
    "!git config credential.helper store"
   ]
  },
  {
   "cell_type": "code",
   "execution_count": 21,
   "id": "a9a7e740-2661-43c1-9743-bef78afaba54",
   "metadata": {
    "execution": {
     "iopub.execute_input": "2023-02-24T20:43:06.563135Z",
     "iopub.status.busy": "2023-02-24T20:43:06.562110Z",
     "iopub.status.idle": "2023-02-24T20:43:06.781930Z",
     "shell.execute_reply": "2023-02-24T20:43:06.778511Z",
     "shell.execute_reply.started": "2023-02-24T20:43:06.563101Z"
    }
   },
   "outputs": [],
   "source": [
    "!git add --all"
   ]
  },
  {
   "cell_type": "code",
   "execution_count": 22,
   "id": "f5ed7e73-e40b-4de9-858d-54a1530018cb",
   "metadata": {
    "execution": {
     "iopub.execute_input": "2023-02-24T20:43:06.787504Z",
     "iopub.status.busy": "2023-02-24T20:43:06.783930Z",
     "iopub.status.idle": "2023-02-24T20:43:07.054330Z",
     "shell.execute_reply": "2023-02-24T20:43:07.051242Z",
     "shell.execute_reply.started": "2023-02-24T20:43:06.787463Z"
    }
   },
   "outputs": [
    {
     "name": "stdout",
     "output_type": "stream",
     "text": [
      "[master 73cd949] ֹ\n",
      " 3 files changed, 268 insertions(+), 36 deletions(-)\n"
     ]
    }
   ],
   "source": [
    "# Commit message eintragen und run\n",
    "!git commit -m \"ֹ\""
   ]
  },
  {
   "cell_type": "code",
   "execution_count": 24,
   "id": "a22cf51e-4518-4092-a921-8da1297b60e6",
   "metadata": {
    "execution": {
     "iopub.execute_input": "2023-02-24T20:43:21.301782Z",
     "iopub.status.busy": "2023-02-24T20:43:21.297573Z",
     "iopub.status.idle": "2023-02-24T20:43:22.622844Z",
     "shell.execute_reply": "2023-02-24T20:43:22.620323Z",
     "shell.execute_reply.started": "2023-02-24T20:43:21.301727Z"
    },
    "tags": []
   },
   "outputs": [
    {
     "name": "stdout",
     "output_type": "stream",
     "text": [
      "Objekte aufzählen: 13, fertig.\n",
      "Zähle Objekte: 100% (13/13), fertig.\n",
      "Delta-Kompression verwendet bis zu 2 Threads.\n",
      "Komprimiere Objekte: 100% (6/6), fertig.\n",
      "Schreibe Objekte: 100% (7/7), 4.01 KiB | 4.01 MiB/s, fertig.\n",
      "Gesamt 7 (Delta 4), Wiederverwendet 0 (Delta 0), Pack wiederverwendet 0\n",
      "remote: Resolving deltas: 100% (4/4), completed with 4 local objects.\u001b[K\n",
      "To https://github.com/djekra/bj_nlp.git\n",
      "   dcc53ff..73cd949  master -> master\n"
     ]
    }
   ],
   "source": [
    "!git push origin master"
   ]
  },
  {
   "cell_type": "code",
   "execution_count": 23,
   "id": "2aba6515-d4a9-4a7e-a47a-d1c7aa881c36",
   "metadata": {
    "execution": {
     "iopub.execute_input": "2023-02-24T20:43:07.058162Z",
     "iopub.status.busy": "2023-02-24T20:43:07.057660Z",
     "iopub.status.idle": "2023-02-24T20:43:07.157552Z",
     "shell.execute_reply": "2023-02-24T20:43:07.149086Z",
     "shell.execute_reply.started": "2023-02-24T20:43:07.058130Z"
    }
   },
   "outputs": [
    {
     "name": "stdout",
     "output_type": "stream",
     "text": [
      "Stop Time:  21:43:07\n",
      "Elapsed:    25 secs\n"
     ]
    },
    {
     "data": {
      "text/html": [
       "<img src onerror=\"var cell = this.closest('.jp-CodeCell');var editor = cell.querySelector('.jp-Editor');editor.style.background='DarkGray';this.parentNode.removeChild(this)\">"
      ],
      "text/plain": [
       "<IPython.core.display.HTML object>"
      ]
     },
     "metadata": {},
     "output_type": "display_data"
    }
   ],
   "source": [
    "raise Stop"
   ]
  },
  {
   "cell_type": "markdown",
   "id": "e62fe388-b5f9-408c-b6e6-b6e87eba5876",
   "metadata": {},
   "source": [
    "* Terminal ins Verzeichnis öffnen\n",
    "* `git push origin master`\n",
    "* Personal Access Token verwenden statt Passwort\n",
    "* überprüfen: https://github.com/djekra/bj_nlp"
   ]
  },
  {
   "cell_type": "markdown",
   "id": "c7654839-a06f-4024-a72f-5e081082af6b",
   "metadata": {},
   "source": [
    "## Publish on pypi.org"
   ]
  },
  {
   "cell_type": "markdown",
   "id": "2b5b5f7b-8225-4b21-b483-bcad5702b726",
   "metadata": {},
   "source": [
    "* `python -m twine upload --skip-existing dist/*` \n",
    "* Version überprüfen: https://pypi.org/project/bj_nlp/"
   ]
  },
  {
   "cell_type": "code",
   "execution_count": null,
   "id": "42124620-1dac-401c-9780-8b78c5f1c9e2",
   "metadata": {
    "execution": {
     "iopub.status.busy": "2023-02-24T20:43:07.159620Z",
     "iopub.status.idle": "2023-02-24T20:43:07.160278Z",
     "shell.execute_reply": "2023-02-24T20:43:07.159875Z",
     "shell.execute_reply.started": "2023-02-24T20:43:07.159855Z"
    }
   },
   "outputs": [],
   "source": [
    "# Nicht nötig\n",
    "# Publish on test.pypi.org\n",
    "# python -m twine upload --repository testpypi --skip-existing dist/* "
   ]
  },
  {
   "cell_type": "markdown",
   "id": "16c9f64f-40af-41ac-90db-f802bb8f73c1",
   "metadata": {},
   "source": [
    "## Test from PyPi"
   ]
  },
  {
   "cell_type": "code",
   "execution_count": 28,
   "id": "3af8896f-3f40-4d28-a365-fc4c0cb4228f",
   "metadata": {
    "execution": {
     "iopub.execute_input": "2023-02-24T20:53:02.911216Z",
     "iopub.status.busy": "2023-02-24T20:53:02.910687Z",
     "iopub.status.idle": "2023-02-24T20:53:04.192166Z",
     "shell.execute_reply": "2023-02-24T20:53:04.189778Z",
     "shell.execute_reply.started": "2023-02-24T20:53:02.911166Z"
    }
   },
   "outputs": [
    {
     "name": "stdout",
     "output_type": "stream",
     "text": [
      "Found existing installation: bj-nlp 0.0.2\n",
      "Uninstalling bj-nlp-0.0.2:\n",
      "  Successfully uninstalled bj-nlp-0.0.2\n"
     ]
    }
   ],
   "source": [
    "# uninstall\n",
    "!pip uninstall -y bj_nlp"
   ]
  },
  {
   "cell_type": "code",
   "execution_count": 29,
   "id": "8ea8f83c-6970-424a-993d-f8e378e5faa9",
   "metadata": {
    "execution": {
     "iopub.execute_input": "2023-02-24T20:53:04.202532Z",
     "iopub.status.busy": "2023-02-24T20:53:04.201651Z",
     "iopub.status.idle": "2023-02-24T20:53:08.187122Z",
     "shell.execute_reply": "2023-02-24T20:53:08.184586Z",
     "shell.execute_reply.started": "2023-02-24T20:53:04.202443Z"
    }
   },
   "outputs": [
    {
     "name": "stdout",
     "output_type": "stream",
     "text": [
      "Collecting bj_nlp\n",
      "  Downloading bj_nlp-0.0.2-py3-none-any.whl (31 kB)\n",
      "Requirement already satisfied: bpyth in /home/me/mambaforge/envs/python_06/lib/python3.9/site-packages (from bj_nlp) (0.1.8)\n",
      "Installing collected packages: bj_nlp\n",
      "Successfully installed bj_nlp-0.0.2\n"
     ]
    }
   ],
   "source": [
    "!pip install bj_nlp --no-cache-dir "
   ]
  },
  {
   "cell_type": "code",
   "execution_count": 30,
   "id": "5655c1d6-916d-4f5a-90aa-1877b6a5317b",
   "metadata": {
    "execution": {
     "iopub.execute_input": "2023-02-24T20:53:08.194775Z",
     "iopub.status.busy": "2023-02-24T20:53:08.193922Z",
     "iopub.status.idle": "2023-02-24T20:53:08.407699Z",
     "shell.execute_reply": "2023-02-24T20:53:08.406916Z",
     "shell.execute_reply.started": "2023-02-24T20:53:08.194690Z"
    }
   },
   "outputs": [
    {
     "name": "stdout",
     "output_type": "stream",
     "text": [
      "blab init\n",
      "environment['in_colab']     = False\n",
      "environment['dropbox_path'] = /home/me/Data_Linux/Dropbox\n",
      "environment['lib_path']     = /home/me/Data_Linux/Dropbox/31_Projekte/01_Python/libs\n",
      "Start Time: 21:53:08\n"
     ]
    },
    {
     "data": {
      "text/html": [
       "<img src onerror=\"var cell = this.closest('.jp-CodeCell');var editor = cell.querySelector('.jp-Editor');editor.style.background='Beige';this.parentNode.removeChild(this)\">"
      ],
      "text/plain": [
       "<IPython.core.display.HTML object>"
      ]
     },
     "metadata": {},
     "output_type": "display_data"
    }
   ],
   "source": [
    "# blab init\n",
    "try:\n",
    "    import blab\n",
    "    startup_notebook = blab.blab_startup()\n",
    "    %run $startup_notebook\n",
    "except:\n",
    "    pass"
   ]
  },
  {
   "cell_type": "code",
   "execution_count": 31,
   "id": "b1a1633d-62ad-4088-8b90-6447cc84daf6",
   "metadata": {
    "execution": {
     "iopub.execute_input": "2023-02-24T20:53:08.412521Z",
     "iopub.status.busy": "2023-02-24T20:53:08.411747Z",
     "iopub.status.idle": "2023-02-24T20:53:13.328877Z",
     "shell.execute_reply": "2023-02-24T20:53:13.326094Z",
     "shell.execute_reply.started": "2023-02-24T20:53:08.412483Z"
    },
    "tags": []
   },
   "outputs": [
    {
     "name": "stdout",
     "output_type": "stream",
     "text": [
      "Hello bj_nlp 0.0.2\n"
     ]
    }
   ],
   "source": [
    "# test script\n",
    "!bj_nlp"
   ]
  }
 ],
 "metadata": {
  "kernelspec": {
   "display_name": "Python 3 (ipykernel)",
   "language": "python",
   "name": "python3"
  },
  "language_info": {
   "codemirror_mode": {
    "name": "ipython",
    "version": 3
   },
   "file_extension": ".py",
   "mimetype": "text/x-python",
   "name": "python",
   "nbconvert_exporter": "python",
   "pygments_lexer": "ipython3",
   "version": "3.9.13"
  }
 },
 "nbformat": 4,
 "nbformat_minor": 5
}
